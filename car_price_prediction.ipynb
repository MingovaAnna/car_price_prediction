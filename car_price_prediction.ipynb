{
 "cells": [
  {
   "cell_type": "code",
   "execution_count": 51,
   "id": "70c04244-b587-4f1e-9783-70609ffd88e9",
   "metadata": {},
   "outputs": [],
   "source": [
    "import pickle\n",
    "\n",
    "import pandas as pd\n",
    "import matplotlib.pyplot as plt\n",
    "import seaborn as sns\n",
    "\n",
    "from sklearn.model_selection import train_test_split, GridSearchCV\n",
    "from sklearn.preprocessing import OneHotEncoder, StandardScaler\n",
    "from sklearn.linear_model import LogisticRegression\n",
    "from sklearn.ensemble import RandomForestClassifier\n",
    "from sklearn.neural_network import MLPClassifier\n",
    "from sklearn.metrics import accuracy_score, classification_report"
   ]
  },
  {
   "cell_type": "code",
   "execution_count": 2,
   "id": "907eea73-10f6-4bcd-905a-ae96e2f92a0c",
   "metadata": {},
   "outputs": [
    {
     "name": "stdout",
     "output_type": "stream",
     "text": [
      "Размерность датафрейма: (10000, 20)\n"
     ]
    },
    {
     "data": {
      "text/html": [
       "<div>\n",
       "<style scoped>\n",
       "    .dataframe tbody tr th:only-of-type {\n",
       "        vertical-align: middle;\n",
       "    }\n",
       "\n",
       "    .dataframe tbody tr th {\n",
       "        vertical-align: top;\n",
       "    }\n",
       "\n",
       "    .dataframe thead th {\n",
       "        text-align: right;\n",
       "    }\n",
       "</style>\n",
       "<table border=\"1\" class=\"dataframe\">\n",
       "  <thead>\n",
       "    <tr style=\"text-align: right;\">\n",
       "      <th></th>\n",
       "      <th>id</th>\n",
       "      <th>url</th>\n",
       "      <th>region</th>\n",
       "      <th>region_url</th>\n",
       "      <th>price</th>\n",
       "      <th>year</th>\n",
       "      <th>manufacturer</th>\n",
       "      <th>model</th>\n",
       "      <th>fuel</th>\n",
       "      <th>odometer</th>\n",
       "      <th>title_status</th>\n",
       "      <th>transmission</th>\n",
       "      <th>image_url</th>\n",
       "      <th>description</th>\n",
       "      <th>state</th>\n",
       "      <th>lat</th>\n",
       "      <th>long</th>\n",
       "      <th>posting_date</th>\n",
       "      <th>price_category</th>\n",
       "      <th>date</th>\n",
       "    </tr>\n",
       "  </thead>\n",
       "  <tbody>\n",
       "    <tr>\n",
       "      <th>0</th>\n",
       "      <td>7308295377</td>\n",
       "      <td>https://chattanooga.craigslist.org/ctd/d/chatt...</td>\n",
       "      <td>chattanooga</td>\n",
       "      <td>https://chattanooga.craigslist.org</td>\n",
       "      <td>54990</td>\n",
       "      <td>2020.0</td>\n",
       "      <td>ram</td>\n",
       "      <td>2500 crew cab big horn</td>\n",
       "      <td>diesel</td>\n",
       "      <td>27442</td>\n",
       "      <td>clean</td>\n",
       "      <td>other</td>\n",
       "      <td>https://images.craigslist.org/00N0N_1xMPvfxRAI...</td>\n",
       "      <td>Carvana is the safer way to buy a car During t...</td>\n",
       "      <td>tn</td>\n",
       "      <td>35.060000</td>\n",
       "      <td>-85.250000</td>\n",
       "      <td>2021-04-17T12:30:50-0400</td>\n",
       "      <td>high</td>\n",
       "      <td>2021-04-17 16:30:50+00:00</td>\n",
       "    </tr>\n",
       "    <tr>\n",
       "      <th>1</th>\n",
       "      <td>7316380095</td>\n",
       "      <td>https://newjersey.craigslist.org/ctd/d/carlsta...</td>\n",
       "      <td>north jersey</td>\n",
       "      <td>https://newjersey.craigslist.org</td>\n",
       "      <td>16942</td>\n",
       "      <td>2016.0</td>\n",
       "      <td>ford</td>\n",
       "      <td>explorer 4wd 4dr xlt</td>\n",
       "      <td>NaN</td>\n",
       "      <td>60023</td>\n",
       "      <td>clean</td>\n",
       "      <td>automatic</td>\n",
       "      <td>https://images.craigslist.org/00x0x_26jl9F0cnL...</td>\n",
       "      <td>***Call Us for more information at: 201-635-14...</td>\n",
       "      <td>nj</td>\n",
       "      <td>40.821805</td>\n",
       "      <td>-74.061962</td>\n",
       "      <td>2021-05-03T15:40:21-0400</td>\n",
       "      <td>medium</td>\n",
       "      <td>2021-05-03 19:40:21+00:00</td>\n",
       "    </tr>\n",
       "    <tr>\n",
       "      <th>2</th>\n",
       "      <td>7313733749</td>\n",
       "      <td>https://reno.craigslist.org/ctd/d/atlanta-2017...</td>\n",
       "      <td>reno / tahoe</td>\n",
       "      <td>https://reno.craigslist.org</td>\n",
       "      <td>35590</td>\n",
       "      <td>2017.0</td>\n",
       "      <td>volkswagen</td>\n",
       "      <td>golf r hatchback</td>\n",
       "      <td>gas</td>\n",
       "      <td>14048</td>\n",
       "      <td>clean</td>\n",
       "      <td>other</td>\n",
       "      <td>https://images.craigslist.org/00y0y_eeZjWeiSfb...</td>\n",
       "      <td>Carvana is the safer way to buy a car During t...</td>\n",
       "      <td>ca</td>\n",
       "      <td>33.779214</td>\n",
       "      <td>-84.411811</td>\n",
       "      <td>2021-04-28T03:52:20-0700</td>\n",
       "      <td>high</td>\n",
       "      <td>2021-04-28 10:52:20+00:00</td>\n",
       "    </tr>\n",
       "    <tr>\n",
       "      <th>3</th>\n",
       "      <td>7308210929</td>\n",
       "      <td>https://fayetteville.craigslist.org/ctd/d/rale...</td>\n",
       "      <td>fayetteville</td>\n",
       "      <td>https://fayetteville.craigslist.org</td>\n",
       "      <td>14500</td>\n",
       "      <td>2013.0</td>\n",
       "      <td>toyota</td>\n",
       "      <td>rav4</td>\n",
       "      <td>gas</td>\n",
       "      <td>117291</td>\n",
       "      <td>clean</td>\n",
       "      <td>automatic</td>\n",
       "      <td>https://images.craigslist.org/00606_iGe5iXidib...</td>\n",
       "      <td>2013 Toyota RAV4 XLE 4dr SUV     Offered by: R...</td>\n",
       "      <td>nc</td>\n",
       "      <td>35.715954</td>\n",
       "      <td>-78.655304</td>\n",
       "      <td>2021-04-17T10:08:57-0400</td>\n",
       "      <td>medium</td>\n",
       "      <td>2021-04-17 14:08:57+00:00</td>\n",
       "    </tr>\n",
       "    <tr>\n",
       "      <th>4</th>\n",
       "      <td>7316474668</td>\n",
       "      <td>https://newyork.craigslist.org/lgi/cto/d/baldw...</td>\n",
       "      <td>new york city</td>\n",
       "      <td>https://newyork.craigslist.org</td>\n",
       "      <td>21800</td>\n",
       "      <td>2021.0</td>\n",
       "      <td>nissan</td>\n",
       "      <td>altima</td>\n",
       "      <td>gas</td>\n",
       "      <td>8000</td>\n",
       "      <td>clean</td>\n",
       "      <td>automatic</td>\n",
       "      <td>https://images.craigslist.org/00V0V_3pSOiPZ3Sd...</td>\n",
       "      <td>2021 Nissan Altima Sv with Only 8 K Miles Titl...</td>\n",
       "      <td>ny</td>\n",
       "      <td>40.654800</td>\n",
       "      <td>-73.609700</td>\n",
       "      <td>2021-05-03T18:32:06-0400</td>\n",
       "      <td>medium</td>\n",
       "      <td>2021-05-03 22:32:06+00:00</td>\n",
       "    </tr>\n",
       "  </tbody>\n",
       "</table>\n",
       "</div>"
      ],
      "text/plain": [
       "           id                                                url  \\\n",
       "0  7308295377  https://chattanooga.craigslist.org/ctd/d/chatt...   \n",
       "1  7316380095  https://newjersey.craigslist.org/ctd/d/carlsta...   \n",
       "2  7313733749  https://reno.craigslist.org/ctd/d/atlanta-2017...   \n",
       "3  7308210929  https://fayetteville.craigslist.org/ctd/d/rale...   \n",
       "4  7316474668  https://newyork.craigslist.org/lgi/cto/d/baldw...   \n",
       "\n",
       "          region                           region_url  price    year  \\\n",
       "0    chattanooga   https://chattanooga.craigslist.org  54990  2020.0   \n",
       "1   north jersey     https://newjersey.craigslist.org  16942  2016.0   \n",
       "2   reno / tahoe          https://reno.craigslist.org  35590  2017.0   \n",
       "3   fayetteville  https://fayetteville.craigslist.org  14500  2013.0   \n",
       "4  new york city       https://newyork.craigslist.org  21800  2021.0   \n",
       "\n",
       "  manufacturer                   model    fuel  odometer title_status  \\\n",
       "0          ram  2500 crew cab big horn  diesel     27442        clean   \n",
       "1         ford    explorer 4wd 4dr xlt     NaN     60023        clean   \n",
       "2   volkswagen        golf r hatchback     gas     14048        clean   \n",
       "3       toyota                    rav4     gas    117291        clean   \n",
       "4       nissan                  altima     gas      8000        clean   \n",
       "\n",
       "  transmission                                          image_url  \\\n",
       "0        other  https://images.craigslist.org/00N0N_1xMPvfxRAI...   \n",
       "1    automatic  https://images.craigslist.org/00x0x_26jl9F0cnL...   \n",
       "2        other  https://images.craigslist.org/00y0y_eeZjWeiSfb...   \n",
       "3    automatic  https://images.craigslist.org/00606_iGe5iXidib...   \n",
       "4    automatic  https://images.craigslist.org/00V0V_3pSOiPZ3Sd...   \n",
       "\n",
       "                                         description state        lat  \\\n",
       "0  Carvana is the safer way to buy a car During t...    tn  35.060000   \n",
       "1  ***Call Us for more information at: 201-635-14...    nj  40.821805   \n",
       "2  Carvana is the safer way to buy a car During t...    ca  33.779214   \n",
       "3  2013 Toyota RAV4 XLE 4dr SUV     Offered by: R...    nc  35.715954   \n",
       "4  2021 Nissan Altima Sv with Only 8 K Miles Titl...    ny  40.654800   \n",
       "\n",
       "        long              posting_date price_category  \\\n",
       "0 -85.250000  2021-04-17T12:30:50-0400           high   \n",
       "1 -74.061962  2021-05-03T15:40:21-0400         medium   \n",
       "2 -84.411811  2021-04-28T03:52:20-0700           high   \n",
       "3 -78.655304  2021-04-17T10:08:57-0400         medium   \n",
       "4 -73.609700  2021-05-03T18:32:06-0400         medium   \n",
       "\n",
       "                        date  \n",
       "0  2021-04-17 16:30:50+00:00  \n",
       "1  2021-05-03 19:40:21+00:00  \n",
       "2  2021-04-28 10:52:20+00:00  \n",
       "3  2021-04-17 14:08:57+00:00  \n",
       "4  2021-05-03 22:32:06+00:00  "
      ]
     },
     "execution_count": 2,
     "metadata": {},
     "output_type": "execute_result"
    }
   ],
   "source": [
    "df = pd.read_csv('data/df_out.csv')\n",
    "\n",
    "print(f'Размерность датафрейма: {df.shape}')\n",
    "\n",
    "df.head()"
   ]
  },
  {
   "cell_type": "markdown",
   "id": "87c7bfa4-ec41-48c6-9142-48c9f980d0a1",
   "metadata": {},
   "source": [
    "# Data Preparation"
   ]
  },
  {
   "cell_type": "markdown",
   "id": "80a72254-3333-43cc-bd73-aca68ac90323",
   "metadata": {},
   "source": [
    "## Data Exploration"
   ]
  },
  {
   "cell_type": "code",
   "execution_count": 3,
   "id": "c9fe3bcf-700f-4d32-971a-decffe78534e",
   "metadata": {},
   "outputs": [
    {
     "name": "stdout",
     "output_type": "stream",
     "text": [
      "Количество дубликатов: 0\n"
     ]
    }
   ],
   "source": [
    "# Находим количество дубликатов в датафрейме\n",
    "\n",
    "num_duplicates = df.duplicated().sum()\n",
    "\n",
    "print(f'Количество дубликатов: {num_duplicates}')"
   ]
  },
  {
   "cell_type": "code",
   "execution_count": 4,
   "id": "de21ff3e-007b-4af9-9210-724a573b073c",
   "metadata": {},
   "outputs": [
    {
     "data": {
      "text/plain": [
       "id                  int64\n",
       "url                object\n",
       "region             object\n",
       "region_url         object\n",
       "price               int64\n",
       "year              float64\n",
       "manufacturer       object\n",
       "model              object\n",
       "fuel               object\n",
       "odometer            int64\n",
       "title_status       object\n",
       "transmission       object\n",
       "image_url          object\n",
       "description        object\n",
       "state              object\n",
       "lat               float64\n",
       "long              float64\n",
       "posting_date       object\n",
       "price_category     object\n",
       "date               object\n",
       "dtype: object"
      ]
     },
     "execution_count": 4,
     "metadata": {},
     "output_type": "execute_result"
    }
   ],
   "source": [
    "# Выводим текущие типы данных всех столбцов, чтобы проверить, какие из них нужно преобразовать\n",
    "\n",
    "df.dtypes"
   ]
  },
  {
   "cell_type": "code",
   "execution_count": 5,
   "id": "d02e47af-1d3c-404a-9672-93a3640de34c",
   "metadata": {},
   "outputs": [
    {
     "name": "stdout",
     "output_type": "stream",
     "text": [
      "Количество пропусков:\n"
     ]
    },
    {
     "data": {
      "text/html": [
       "<div>\n",
       "<style scoped>\n",
       "    .dataframe tbody tr th:only-of-type {\n",
       "        vertical-align: middle;\n",
       "    }\n",
       "\n",
       "    .dataframe tbody tr th {\n",
       "        vertical-align: top;\n",
       "    }\n",
       "\n",
       "    .dataframe thead th {\n",
       "        text-align: right;\n",
       "    }\n",
       "</style>\n",
       "<table border=\"1\" class=\"dataframe\">\n",
       "  <thead>\n",
       "    <tr style=\"text-align: right;\">\n",
       "      <th></th>\n",
       "      <th>Missing Values</th>\n",
       "      <th>Percent (%)</th>\n",
       "    </tr>\n",
       "  </thead>\n",
       "  <tbody>\n",
       "    <tr>\n",
       "      <th>id</th>\n",
       "      <td>0</td>\n",
       "      <td>0.00</td>\n",
       "    </tr>\n",
       "    <tr>\n",
       "      <th>url</th>\n",
       "      <td>0</td>\n",
       "      <td>0.00</td>\n",
       "    </tr>\n",
       "    <tr>\n",
       "      <th>region</th>\n",
       "      <td>0</td>\n",
       "      <td>0.00</td>\n",
       "    </tr>\n",
       "    <tr>\n",
       "      <th>region_url</th>\n",
       "      <td>0</td>\n",
       "      <td>0.00</td>\n",
       "    </tr>\n",
       "    <tr>\n",
       "      <th>price</th>\n",
       "      <td>0</td>\n",
       "      <td>0.00</td>\n",
       "    </tr>\n",
       "    <tr>\n",
       "      <th>year</th>\n",
       "      <td>36</td>\n",
       "      <td>0.36</td>\n",
       "    </tr>\n",
       "    <tr>\n",
       "      <th>manufacturer</th>\n",
       "      <td>0</td>\n",
       "      <td>0.00</td>\n",
       "    </tr>\n",
       "    <tr>\n",
       "      <th>model</th>\n",
       "      <td>128</td>\n",
       "      <td>1.28</td>\n",
       "    </tr>\n",
       "    <tr>\n",
       "      <th>fuel</th>\n",
       "      <td>63</td>\n",
       "      <td>0.63</td>\n",
       "    </tr>\n",
       "    <tr>\n",
       "      <th>odometer</th>\n",
       "      <td>0</td>\n",
       "      <td>0.00</td>\n",
       "    </tr>\n",
       "    <tr>\n",
       "      <th>title_status</th>\n",
       "      <td>166</td>\n",
       "      <td>1.66</td>\n",
       "    </tr>\n",
       "    <tr>\n",
       "      <th>transmission</th>\n",
       "      <td>45</td>\n",
       "      <td>0.45</td>\n",
       "    </tr>\n",
       "    <tr>\n",
       "      <th>image_url</th>\n",
       "      <td>2</td>\n",
       "      <td>0.02</td>\n",
       "    </tr>\n",
       "    <tr>\n",
       "      <th>description</th>\n",
       "      <td>2</td>\n",
       "      <td>0.02</td>\n",
       "    </tr>\n",
       "    <tr>\n",
       "      <th>state</th>\n",
       "      <td>0</td>\n",
       "      <td>0.00</td>\n",
       "    </tr>\n",
       "    <tr>\n",
       "      <th>lat</th>\n",
       "      <td>98</td>\n",
       "      <td>0.98</td>\n",
       "    </tr>\n",
       "    <tr>\n",
       "      <th>long</th>\n",
       "      <td>98</td>\n",
       "      <td>0.98</td>\n",
       "    </tr>\n",
       "    <tr>\n",
       "      <th>posting_date</th>\n",
       "      <td>2</td>\n",
       "      <td>0.02</td>\n",
       "    </tr>\n",
       "    <tr>\n",
       "      <th>price_category</th>\n",
       "      <td>0</td>\n",
       "      <td>0.00</td>\n",
       "    </tr>\n",
       "    <tr>\n",
       "      <th>date</th>\n",
       "      <td>2</td>\n",
       "      <td>0.02</td>\n",
       "    </tr>\n",
       "  </tbody>\n",
       "</table>\n",
       "</div>"
      ],
      "text/plain": [
       "                Missing Values  Percent (%)\n",
       "id                           0         0.00\n",
       "url                          0         0.00\n",
       "region                       0         0.00\n",
       "region_url                   0         0.00\n",
       "price                        0         0.00\n",
       "year                        36         0.36\n",
       "manufacturer                 0         0.00\n",
       "model                      128         1.28\n",
       "fuel                        63         0.63\n",
       "odometer                     0         0.00\n",
       "title_status               166         1.66\n",
       "transmission                45         0.45\n",
       "image_url                    2         0.02\n",
       "description                  2         0.02\n",
       "state                        0         0.00\n",
       "lat                         98         0.98\n",
       "long                        98         0.98\n",
       "posting_date                 2         0.02\n",
       "price_category               0         0.00\n",
       "date                         2         0.02"
      ]
     },
     "execution_count": 5,
     "metadata": {},
     "output_type": "execute_result"
    }
   ],
   "source": [
    "# Считаем количество и процент пропусков по всем столбцам, формируем таблицу и выводим ее\n",
    "\n",
    "missing_counts = df.isnull().sum()\n",
    "\n",
    "missing_percent = (df.isnull().mean() * 100).round(2)\n",
    "\n",
    "missing_df = pd.DataFrame({'Missing Values': missing_counts, 'Percent (%)': missing_percent})\n",
    "\n",
    "print(f'Количество пропусков:')\n",
    "missing_df"
   ]
  },
  {
   "cell_type": "code",
   "execution_count": 6,
   "id": "7018c270-693b-474e-ab96-f50cc8a29e85",
   "metadata": {},
   "outputs": [
    {
     "name": "stdout",
     "output_type": "stream",
     "text": [
      "price: выбросов 215 (границы: -22235.00 - 58125.00)\n",
      "odometer: выбросов 0 (границы: -107444.38 - 283466.62)\n",
      "year: выбросов 394 (границы: 1994.50 - 2030.50)\n"
     ]
    }
   ],
   "source": [
    "# Проверяем числовые столбцы на выбросы с помощью правила межквартильного размаха \n",
    "\n",
    "numeric_cols = ['price', 'odometer', 'year']\n",
    "\n",
    "for col in numeric_cols:\n",
    "    Q1 = df[col].quantile(0.25)\n",
    "    Q3 = df[col].quantile(0.75)\n",
    "    IQR = Q3 - Q1\n",
    "\n",
    "    lower_bound = Q1 - 1.5 * IQR\n",
    "    upper_bound = Q3 + 1.5 * IQR\n",
    "\n",
    "    outliers = df[(df[col] < lower_bound) | (df[col] > upper_bound)]\n",
    "\n",
    "    print(f'{col}: выбросов {outliers.shape[0]} (границы: {lower_bound:.2f} - {upper_bound:.2f})')"
   ]
  },
  {
   "cell_type": "code",
   "execution_count": 7,
   "id": "37285fe8-fd1a-4d7c-96b4-934bddf34712",
   "metadata": {},
   "outputs": [
    {
     "data": {
      "image/png": "[encoded data removed]",
      "text/plain": [
       "<Figure size 1800x500 with 3 Axes>"
      ]
     },
     "metadata": {},
     "output_type": "display_data"
    }
   ],
   "source": [
    "# Строим ящик с усами для основных числовых признаков, чтобы выявить выбросы и аномалии\n",
    "\n",
    "plt.figure(figsize=(18, 5))\n",
    "\n",
    "plt.subplot(1, 3, 1)\n",
    "sns.boxplot(x=df['price'])\n",
    "plt.title('Ящик с усами для цены (price)')\n",
    "\n",
    "plt.subplot(1, 3, 2)\n",
    "sns.boxplot(x=df['odometer'])\n",
    "plt.title('Ящик с усами для пробега (odometer)')\n",
    "\n",
    "plt.subplot(1, 3, 3)\n",
    "sns.boxplot(x=df['year'])\n",
    "plt.title('Ящик с усами для года выпуска (year)')\n",
    "\n",
    "plt.tight_layout()\n",
    "plt.show()"
   ]
  },
  {
   "cell_type": "markdown",
   "id": "2a48a7ab-7deb-42fd-a0e6-b8a7ce695cc6",
   "metadata": {},
   "source": [
    "## Data Cleaning"
   ]
  },
  {
   "cell_type": "code",
   "execution_count": 8,
   "id": "1758a4c9-b077-4920-90f3-7420b320983e",
   "metadata": {},
   "outputs": [
    {
     "data": {
      "text/plain": [
       "id                              int64\n",
       "url                            object\n",
       "region                         object\n",
       "region_url                     object\n",
       "price                           int64\n",
       "year                            Int64\n",
       "manufacturer                   object\n",
       "model                          object\n",
       "fuel                           object\n",
       "odometer                        int64\n",
       "title_status                   object\n",
       "transmission                   object\n",
       "image_url                      object\n",
       "description                    object\n",
       "state                          object\n",
       "lat                           float64\n",
       "long                          float64\n",
       "posting_date      datetime64[ns, UTC]\n",
       "price_category                 object\n",
       "date              datetime64[ns, UTC]\n",
       "dtype: object"
      ]
     },
     "execution_count": 8,
     "metadata": {},
     "output_type": "execute_result"
    }
   ],
   "source": [
    "# Приводим типы данных к корректным форматам для дальнейшей обработки\n",
    "\n",
    "df['posting_date'] = pd.to_datetime(df['posting_date'], utc=True)\n",
    "df['date'] = pd.to_datetime(df['date'], utc=True)\n",
    "df['year'] = df['year'].astype('Int64')\n",
    "\n",
    "df.dtypes"
   ]
  },
  {
   "cell_type": "code",
   "execution_count": 9,
   "id": "d13b4b3e-ed6a-4f9e-9423-5e6bbcb992cb",
   "metadata": {},
   "outputs": [],
   "source": [
    "# Обработка пропусков: заполняем пропуски в числовых и категориальных признаках, а также удаляем записи с отсутствующими датами\n",
    "\n",
    "# Заполняем пропуски в столбце 'year' медианным значением\n",
    "df['year'] = df['year'].fillna(df['year'].median())\n",
    "\n",
    "# Заполняем пропуски в 'model' значением 'Unknown'\n",
    "df['model'] = df['model'].fillna('Unknown')\n",
    "\n",
    "# Заполняем пропуски в 'fuel', 'title_status' и 'transmission' наиболее частыми значениями (модой)\n",
    "df['fuel'] = df['fuel'].fillna(df['fuel'].mode()[0])\n",
    "df['title_status'] = df['title_status'].fillna(df['title_status'].mode()[0])\n",
    "df['transmission'] = df['transmission'].fillna(df['transmission'].mode()[0])\n",
    "\n",
    "# Заполняем пропуски в 'description' пустой строкой\n",
    "df['description'] = df['description'].fillna('')\n",
    "\n",
    "# Удаляем строки с пропусками в координатах 'lat' и 'long'\n",
    "df = df.dropna(subset=['lat', 'long'])\n",
    "\n",
    "# Удаляем строки с пропусками в датах 'posting_date' и 'date'\n",
    "df = df.dropna(subset=['posting_date', 'date'])"
   ]
  },
  {
   "cell_type": "code",
   "execution_count": 10,
   "id": "bcd6282f-67ab-41d3-b616-6c413a2b75d4",
   "metadata": {},
   "outputs": [
    {
     "name": "stdout",
     "output_type": "stream",
     "text": [
      "Остаток пропусков после обработки:\n",
      "                Missing Values  Percent (%)\n",
      "id                           0          0.0\n",
      "url                          0          0.0\n",
      "region                       0          0.0\n",
      "region_url                   0          0.0\n",
      "price                        0          0.0\n",
      "year                         0          0.0\n",
      "manufacturer                 0          0.0\n",
      "model                        0          0.0\n",
      "fuel                         0          0.0\n",
      "odometer                     0          0.0\n",
      "title_status                 0          0.0\n",
      "transmission                 0          0.0\n",
      "image_url                    0          0.0\n",
      "description                  0          0.0\n",
      "state                        0          0.0\n",
      "lat                          0          0.0\n",
      "long                         0          0.0\n",
      "posting_date                 0          0.0\n",
      "price_category               0          0.0\n",
      "date                         0          0.0\n"
     ]
    }
   ],
   "source": [
    "# Проверяем, остались ли пропуски в датафрейме после обработки\n",
    "\n",
    "missing_counts_after = df.isnull().sum()\n",
    "missing_percent_after = (df.isnull().mean() * 100).round(2)\n",
    "missing_df_after = pd.DataFrame({'Missing Values': missing_counts_after, 'Percent (%)': missing_percent_after})\n",
    "\n",
    "print('Остаток пропусков после обработки:')\n",
    "print(missing_df_after)"
   ]
  },
  {
   "cell_type": "code",
   "execution_count": 11,
   "id": "9204556e-9532-494c-8fe6-e42d1e79c1a2",
   "metadata": {},
   "outputs": [],
   "source": [
    "# Коррекция выбросов в цене: вычисляем границы по IQR с учётом, что цена не может быть ниже нуля, и заменяем значения за пределами этих границ на соответствующие граничные значения\n",
    "\n",
    "Q1 = df['price'].quantile(0.25)\n",
    "Q3 = df['price'].quantile(0.75)\n",
    "IQR = Q3 - Q1\n",
    "\n",
    "lower_bound = max(0, Q1 - 1.5 * IQR)\n",
    "upper_bound = Q3 + 1.5 * IQR\n",
    "\n",
    "df['price'] = df['price'].clip(lower=lower_bound, upper=upper_bound)"
   ]
  },
  {
   "cell_type": "code",
   "execution_count": 12,
   "id": "ee317d98-46a3-4bf8-9f1d-76e65c06d865",
   "metadata": {},
   "outputs": [
    {
     "data": {
      "image/png": "[encoded data removed]",
      "text/plain": [
       "<Figure size 800x600 with 1 Axes>"
      ]
     },
     "metadata": {},
     "output_type": "display_data"
    }
   ],
   "source": [
    "# Построение ящика с усами для столбца 'price' после коррекции выбросов\n",
    "\n",
    "plt.figure(figsize=(8, 6))\n",
    "plt.boxplot(df['price'], vert=False)\n",
    "plt.title('Ящик с усами для скорректированной цены')\n",
    "plt.xlabel('Price')\n",
    "plt.show()"
   ]
  },
  {
   "cell_type": "markdown",
   "id": "effc6998-f13e-4e93-bbb6-4ce822dd554e",
   "metadata": {},
   "source": [
    "# Feature engineering"
   ]
  },
  {
   "cell_type": "markdown",
   "id": "306f2be6-03e6-4d2d-acce-b1615a3e882f",
   "metadata": {},
   "source": [
    "## Categorical Encoding"
   ]
  },
  {
   "cell_type": "code",
   "execution_count": 13,
   "id": "0e21df94-df9d-4c12-9448-04359c0ab912",
   "metadata": {},
   "outputs": [],
   "source": [
    "# Преобразуем категориальные признаки в one-hot кодировку\n",
    "\n",
    "categorical_cols = ['region', 'manufacturer', 'model', 'fuel', 'title_status', 'transmission', 'state']\n",
    "ohe = OneHotEncoder(sparse_output=False, handle_unknown='ignore')\n",
    "\n",
    "df_cat_ohe = pd.DataFrame(ohe.fit_transform(df[categorical_cols]),\n",
    "                          columns=ohe.get_feature_names_out(categorical_cols),\n",
    "                          index=df.index)"
   ]
  },
  {
   "cell_type": "markdown",
   "id": "cd592bba-960e-4dda-b712-5c5666807918",
   "metadata": {},
   "source": [
    "## Feature Scaling"
   ]
  },
  {
   "cell_type": "code",
   "execution_count": 14,
   "id": "94ecc41e-12df-4522-b001-df44ba5f0b0e",
   "metadata": {},
   "outputs": [],
   "source": [
    "# Стандартизация/нормализация числовых признаков\n",
    "\n",
    "numeric_cols = ['price', 'year', 'odometer', 'lat', 'long']\n",
    "scaler = StandardScaler()\n",
    "df_num_scaled = pd.DataFrame(scaler.fit_transform(df[numeric_cols]),\n",
    "                             columns=numeric_cols,\n",
    "                             index=df.index)"
   ]
  },
  {
   "cell_type": "markdown",
   "id": "dcd8d2be-e5db-4d7d-9e09-6857eae4c7b3",
   "metadata": {},
   "source": [
    "## Feature Creation"
   ]
  },
  {
   "cell_type": "code",
   "execution_count": 15,
   "id": "9653dae6-e4e1-4c71-97bb-d2aa3bb0bfe0",
   "metadata": {},
   "outputs": [],
   "source": [
    "# Создаем новые признаки на основе даты публикации и размещения\n",
    "\n",
    "df['posting_year'] = df['posting_date'].dt.year\n",
    "df['posting_month'] = df['posting_date'].dt.month\n",
    "df['posting_dayofweek'] = df['posting_date'].dt.dayofweek\n",
    "\n",
    "df['days_since_posting'] = (df['date'] - df['posting_date']).dt.days"
   ]
  },
  {
   "cell_type": "code",
   "execution_count": 16,
   "id": "bd4e5217-a6b4-40db-aa33-b87b6a546d00",
   "metadata": {},
   "outputs": [],
   "source": [
    "# Удаляем исходные колонки с датами, которые теперь не нужны\n",
    "\n",
    "df = df.drop(columns=['posting_date', 'date', 'url', 'region_url', 'image_url', 'description', 'id'])"
   ]
  },
  {
   "cell_type": "markdown",
   "id": "6a2e45e6-9638-4ba1-a40b-d02cb573bb3c",
   "metadata": {},
   "source": [
    "## Final Dataset Preparation"
   ]
  },
  {
   "cell_type": "code",
   "execution_count": 22,
   "id": "bfb4755d-9dbd-4fd5-8509-24ccc761309a",
   "metadata": {},
   "outputs": [],
   "source": [
    "# Объединяем числовые и категориальные признаки в финальный датасет\n",
    "\n",
    "df_final = pd.concat([df_num_scaled, df_cat_ohe, df[['posting_year', 'posting_month', 'posting_dayofweek', 'days_since_posting']]], axis=1)\n",
    "\n",
    "df_final['price_category'] = df['price_category']"
   ]
  },
  {
   "cell_type": "code",
   "execution_count": 23,
   "id": "cbcc2da6-8768-41a3-82da-70ae71b8c892",
   "metadata": {},
   "outputs": [
    {
     "data": {
      "text/html": [
       "<div>\n",
       "<style scoped>\n",
       "    .dataframe tbody tr th:only-of-type {\n",
       "        vertical-align: middle;\n",
       "    }\n",
       "\n",
       "    .dataframe tbody tr th {\n",
       "        vertical-align: top;\n",
       "    }\n",
       "\n",
       "    .dataframe thead th {\n",
       "        text-align: right;\n",
       "    }\n",
       "</style>\n",
       "<table border=\"1\" class=\"dataframe\">\n",
       "  <thead>\n",
       "    <tr style=\"text-align: right;\">\n",
       "      <th></th>\n",
       "      <th>price</th>\n",
       "      <th>year</th>\n",
       "      <th>odometer</th>\n",
       "      <th>lat</th>\n",
       "      <th>long</th>\n",
       "      <th>region_SF bay area</th>\n",
       "      <th>region_abilene</th>\n",
       "      <th>region_akron / canton</th>\n",
       "      <th>region_albany</th>\n",
       "      <th>region_albuquerque</th>\n",
       "      <th>...</th>\n",
       "      <th>state_vt</th>\n",
       "      <th>state_wa</th>\n",
       "      <th>state_wi</th>\n",
       "      <th>state_wv</th>\n",
       "      <th>state_wy</th>\n",
       "      <th>posting_year</th>\n",
       "      <th>posting_month</th>\n",
       "      <th>posting_dayofweek</th>\n",
       "      <th>days_since_posting</th>\n",
       "      <th>price_category</th>\n",
       "    </tr>\n",
       "  </thead>\n",
       "  <tbody>\n",
       "    <tr>\n",
       "      <th>0</th>\n",
       "      <td>2.624587</td>\n",
       "      <td>0.937410</td>\n",
       "      <td>-1.041359</td>\n",
       "      <td>-0.604685</td>\n",
       "      <td>0.491840</td>\n",
       "      <td>0.0</td>\n",
       "      <td>0.0</td>\n",
       "      <td>0.0</td>\n",
       "      <td>0.0</td>\n",
       "      <td>0.0</td>\n",
       "      <td>...</td>\n",
       "      <td>0.0</td>\n",
       "      <td>0.0</td>\n",
       "      <td>0.0</td>\n",
       "      <td>0.0</td>\n",
       "      <td>0.0</td>\n",
       "      <td>2021</td>\n",
       "      <td>4</td>\n",
       "      <td>5</td>\n",
       "      <td>0</td>\n",
       "      <td>high</td>\n",
       "    </tr>\n",
       "    <tr>\n",
       "      <th>1</th>\n",
       "      <td>-0.146810</td>\n",
       "      <td>0.524595</td>\n",
       "      <td>-0.526809</td>\n",
       "      <td>0.381149</td>\n",
       "      <td>1.109023</td>\n",
       "      <td>0.0</td>\n",
       "      <td>0.0</td>\n",
       "      <td>0.0</td>\n",
       "      <td>0.0</td>\n",
       "      <td>0.0</td>\n",
       "      <td>...</td>\n",
       "      <td>0.0</td>\n",
       "      <td>0.0</td>\n",
       "      <td>0.0</td>\n",
       "      <td>0.0</td>\n",
       "      <td>0.0</td>\n",
       "      <td>2021</td>\n",
       "      <td>5</td>\n",
       "      <td>0</td>\n",
       "      <td>0</td>\n",
       "      <td>medium</td>\n",
       "    </tr>\n",
       "    <tr>\n",
       "      <th>2</th>\n",
       "      <td>1.211501</td>\n",
       "      <td>0.627799</td>\n",
       "      <td>-1.252890</td>\n",
       "      <td>-0.823825</td>\n",
       "      <td>0.538079</td>\n",
       "      <td>0.0</td>\n",
       "      <td>0.0</td>\n",
       "      <td>0.0</td>\n",
       "      <td>0.0</td>\n",
       "      <td>0.0</td>\n",
       "      <td>...</td>\n",
       "      <td>0.0</td>\n",
       "      <td>0.0</td>\n",
       "      <td>0.0</td>\n",
       "      <td>0.0</td>\n",
       "      <td>0.0</td>\n",
       "      <td>2021</td>\n",
       "      <td>4</td>\n",
       "      <td>2</td>\n",
       "      <td>0</td>\n",
       "      <td>high</td>\n",
       "    </tr>\n",
       "    <tr>\n",
       "      <th>3</th>\n",
       "      <td>-0.324684</td>\n",
       "      <td>0.214985</td>\n",
       "      <td>0.377623</td>\n",
       "      <td>-0.492453</td>\n",
       "      <td>0.855634</td>\n",
       "      <td>0.0</td>\n",
       "      <td>0.0</td>\n",
       "      <td>0.0</td>\n",
       "      <td>0.0</td>\n",
       "      <td>0.0</td>\n",
       "      <td>...</td>\n",
       "      <td>0.0</td>\n",
       "      <td>0.0</td>\n",
       "      <td>0.0</td>\n",
       "      <td>0.0</td>\n",
       "      <td>0.0</td>\n",
       "      <td>2021</td>\n",
       "      <td>4</td>\n",
       "      <td>5</td>\n",
       "      <td>0</td>\n",
       "      <td>medium</td>\n",
       "    </tr>\n",
       "    <tr>\n",
       "      <th>4</th>\n",
       "      <td>0.207045</td>\n",
       "      <td>1.040613</td>\n",
       "      <td>-1.348406</td>\n",
       "      <td>0.352575</td>\n",
       "      <td>1.133972</td>\n",
       "      <td>0.0</td>\n",
       "      <td>0.0</td>\n",
       "      <td>0.0</td>\n",
       "      <td>0.0</td>\n",
       "      <td>0.0</td>\n",
       "      <td>...</td>\n",
       "      <td>0.0</td>\n",
       "      <td>0.0</td>\n",
       "      <td>0.0</td>\n",
       "      <td>0.0</td>\n",
       "      <td>0.0</td>\n",
       "      <td>2021</td>\n",
       "      <td>5</td>\n",
       "      <td>0</td>\n",
       "      <td>0</td>\n",
       "      <td>medium</td>\n",
       "    </tr>\n",
       "  </tbody>\n",
       "</table>\n",
       "<p>5 rows × 3966 columns</p>\n",
       "</div>"
      ],
      "text/plain": [
       "      price      year  odometer       lat      long  region_SF bay area  \\\n",
       "0  2.624587  0.937410 -1.041359 -0.604685  0.491840                 0.0   \n",
       "1 -0.146810  0.524595 -0.526809  0.381149  1.109023                 0.0   \n",
       "2  1.211501  0.627799 -1.252890 -0.823825  0.538079                 0.0   \n",
       "3 -0.324684  0.214985  0.377623 -0.492453  0.855634                 0.0   \n",
       "4  0.207045  1.040613 -1.348406  0.352575  1.133972                 0.0   \n",
       "\n",
       "   region_abilene  region_akron / canton  region_albany  region_albuquerque  \\\n",
       "0             0.0                    0.0            0.0                 0.0   \n",
       "1             0.0                    0.0            0.0                 0.0   \n",
       "2             0.0                    0.0            0.0                 0.0   \n",
       "3             0.0                    0.0            0.0                 0.0   \n",
       "4             0.0                    0.0            0.0                 0.0   \n",
       "\n",
       "   ...  state_vt  state_wa  state_wi  state_wv  state_wy  posting_year  \\\n",
       "0  ...       0.0       0.0       0.0       0.0       0.0          2021   \n",
       "1  ...       0.0       0.0       0.0       0.0       0.0          2021   \n",
       "2  ...       0.0       0.0       0.0       0.0       0.0          2021   \n",
       "3  ...       0.0       0.0       0.0       0.0       0.0          2021   \n",
       "4  ...       0.0       0.0       0.0       0.0       0.0          2021   \n",
       "\n",
       "   posting_month  posting_dayofweek  days_since_posting  price_category  \n",
       "0              4                  5                   0            high  \n",
       "1              5                  0                   0          medium  \n",
       "2              4                  2                   0            high  \n",
       "3              4                  5                   0          medium  \n",
       "4              5                  0                   0          medium  \n",
       "\n",
       "[5 rows x 3966 columns]"
      ]
     },
     "execution_count": 23,
     "metadata": {},
     "output_type": "execute_result"
    }
   ],
   "source": [
    "df_final.head()"
   ]
  },
  {
   "cell_type": "code",
   "execution_count": 24,
   "id": "00bec844-77a2-4a98-a022-56abae7bf27e",
   "metadata": {},
   "outputs": [],
   "source": [
    "# Сохраняем финальный датасет для моделирования\n",
    "\n",
    "df_final.to_csv('df_final_for_modeling.csv', index=False)"
   ]
  },
  {
   "cell_type": "markdown",
   "id": "b2ad7400-b9c3-4a87-a7b2-8fb609e8ba40",
   "metadata": {},
   "source": [
    "# Modelling"
   ]
  },
  {
   "cell_type": "markdown",
   "id": "aa8b1623-4912-485b-983e-6e263e3048b4",
   "metadata": {},
   "source": [
    "## Prepare Dataset for Training"
   ]
  },
  {
   "cell_type": "code",
   "execution_count": 38,
   "id": "26eda751-9d70-4493-8cdb-d3d6420f7cb4",
   "metadata": {},
   "outputs": [],
   "source": [
    "# Выбираем признаки (X) и целевую переменную (y)\n",
    "\n",
    "X = df_final.drop(columns=['price_category'])  \n",
    "y = df_final['price_category']"
   ]
  },
  {
   "cell_type": "markdown",
   "id": "0a1151fd-3854-489e-ad8c-9ce91cf3d0aa",
   "metadata": {},
   "source": [
    "## Split Data into Training and Testing Sets"
   ]
  },
  {
   "cell_type": "code",
   "execution_count": 39,
   "id": "dcb73f23-24ce-4e70-b91f-3e88efd4f687",
   "metadata": {},
   "outputs": [],
   "source": [
    "# Делим данные на тренировочную и тестовую выборки\n",
    "\n",
    "X_train, X_test, y_train, y_test = train_test_split(\n",
    "    X, y, test_size=0.2, random_state=42, stratify=y\n",
    ")"
   ]
  },
  {
   "cell_type": "markdown",
   "id": "c5cf3b69-8142-484a-a73d-c4263f6497b8",
   "metadata": {},
   "source": [
    "## Initialize Models"
   ]
  },
  {
   "cell_type": "code",
   "execution_count": 40,
   "id": "2b278e0b-98d2-4063-a643-82b75396b230",
   "metadata": {},
   "outputs": [],
   "source": [
    "logreg = LogisticRegression(max_iter=1000, random_state=42)\n",
    "rf = RandomForestClassifier(random_state=42)\n",
    "mlp = MLPClassifier(max_iter=1000, random_state=42)"
   ]
  },
  {
   "cell_type": "markdown",
   "id": "d2ebdaf0-2329-499a-a0c8-2c37ecc5e224",
   "metadata": {},
   "source": [
    "## Hyperparameter Tuning "
   ]
  },
  {
   "cell_type": "code",
   "execution_count": 41,
   "id": "fb0bd1fe-9871-45a0-94bd-1d762111a671",
   "metadata": {},
   "outputs": [
    {
     "name": "stdout",
     "output_type": "stream",
     "text": [
      "Запускаем подбор гиперпараметров для случайного леса...\n",
      "Лучшие параметры для случайного леса: {'max_depth': None, 'min_samples_split': 5, 'n_estimators': 200}\n"
     ]
    }
   ],
   "source": [
    "# Определяем сетку параметров для подбора случайного леса\n",
    "\n",
    "param_grid_rf = {\n",
    "    'n_estimators': [100, 200],\n",
    "    'max_depth': [None, 10, 20],\n",
    "    'min_samples_split': [2, 5]\n",
    "}\n",
    "\n",
    "# Настраиваем GridSearchCV с 5-кратной кросс-валидацией\n",
    "grid_rf = GridSearchCV(rf, param_grid_rf, cv=5, scoring='accuracy', n_jobs=-1)\n",
    "\n",
    "print(\"Запускаем подбор гиперпараметров для случайного леса...\")\n",
    "grid_rf.fit(X_train, y_train)\n",
    "\n",
    "print(\"Лучшие параметры для случайного леса:\", grid_rf.best_params_)"
   ]
  },
  {
   "cell_type": "markdown",
   "id": "a2fe935c-1664-46f3-9be9-bea0c5594f2f",
   "metadata": {},
   "source": [
    "## Train Models and Compare on Training Set"
   ]
  },
  {
   "cell_type": "code",
   "execution_count": 42,
   "id": "11d16a98-2e7b-416f-bbd5-30630305f737",
   "metadata": {},
   "outputs": [
    {
     "name": "stderr",
     "output_type": "stream",
     "text": [
      "C:\\Users\\User\\anaconda3\\Lib\\site-packages\\sklearn\\linear_model\\_logistic.py:469: ConvergenceWarning: lbfgs failed to converge (status=1):\n",
      "STOP: TOTAL NO. of ITERATIONS REACHED LIMIT.\n",
      "\n",
      "Increase the number of iterations (max_iter) or scale the data as shown in:\n",
      "    https://scikit-learn.org/stable/modules/preprocessing.html\n",
      "Please also refer to the documentation for alternative solver options:\n",
      "    https://scikit-learn.org/stable/modules/linear_model.html#logistic-regression\n",
      "  n_iter_i = _check_optimize_result(\n"
     ]
    },
    {
     "name": "stdout",
     "output_type": "stream",
     "text": [
      "Точность логистической регрессии на тренировке: 0.995\n",
      "Точность МЛП на тренировке: 0.992\n",
      "Точность случайного леса (лучшая) на тренировке: 1.000\n"
     ]
    }
   ],
   "source": [
    "# Обучаем логистическую регрессию и МЛП на тренировочных данных\n",
    "\n",
    "logreg.fit(X_train, y_train)\n",
    "mlp.fit(X_train, y_train)\n",
    "\n",
    "best_rf = grid_rf.best_estimator_\n",
    "\n",
    "print(f\"Точность логистической регрессии на тренировке: {logreg.score(X_train, y_train):.3f}\")\n",
    "print(f\"Точность МЛП на тренировке: {mlp.score(X_train, y_train):.3f}\")\n",
    "print(f\"Точность случайного леса (лучшая) на тренировке: {best_rf.score(X_train, y_train):.3f}\")"
   ]
  },
  {
   "cell_type": "markdown",
   "id": "abb408db-2d0f-4e7d-a5f9-3d7252d0dd17",
   "metadata": {},
   "source": [
    "## Evaluate Best Model on Test Set"
   ]
  },
  {
   "cell_type": "code",
   "execution_count": 49,
   "id": "9998b2ab-1a62-474d-b440-817d51a7afec",
   "metadata": {},
   "outputs": [
    {
     "name": "stdout",
     "output_type": "stream",
     "text": [
      "Точность на тестовой выборке: 0.9959616355376073\n"
     ]
    }
   ],
   "source": [
    "# Делаем предсказания на тесте лучшей моделью случайного леса и выводим точность \n",
    "\n",
    "y_pred = best_rf.predict(X_test)\n",
    "\n",
    "print(\"Точность на тестовой выборке:\", accuracy_score(y_test, y_pred))"
   ]
  },
  {
   "cell_type": "markdown",
   "id": "ae0e207e-bdcb-4d08-b1c3-d05a92df6ad1",
   "metadata": {},
   "source": [
    "# Results"
   ]
  },
  {
   "cell_type": "markdown",
   "id": "a5c2524c-eb65-437d-9704-a3f7e39b774a",
   "metadata": {},
   "source": [
    "Судя по результатам, случайный лес показал наилучшую точность на тестовой выборке (0.996). У модели нет признаков переобучения: точность на тренировочной выборке совпадает с тестовой. Вывод: случайный лес - лучшая модель, её и будем сохранять как итоговую."
   ]
  },
  {
   "cell_type": "code",
   "execution_count": 50,
   "id": "b86b4b4d-da13-493b-9983-1e3ae3d87c34",
   "metadata": {},
   "outputs": [
    {
     "name": "stdout",
     "output_type": "stream",
     "text": [
      "Модель успешно сохранена в файл 'best_model_random_forest.pkl'\n"
     ]
    }
   ],
   "source": [
    "# Сохраняем модель в файл\n",
    "\n",
    "with open('best_model_random_forest.pkl', 'wb') as file:\n",
    "    pickle.dump(best_rf, file)\n",
    "\n",
    "print(\"Модель успешно сохранена в файл 'best_model_random_forest.pkl'\")"
   ]
  },
  {
   "cell_type": "code",
   "execution_count": null,
   "id": "b6320163-f31e-4391-a1ec-c35afe5a1f58",
   "metadata": {},
   "outputs": [],
   "source": []
  }
 ],
 "metadata": {
  "kernelspec": {
   "display_name": "Python 3 (ipykernel)",
   "language": "python",
   "name": "python3"
  },
  "language_info": {
   "codemirror_mode": {
    "name": "ipython",
    "version": 3
   },
   "file_extension": ".py",
   "mimetype": "text/x-python",
   "name": "python",
   "nbconvert_exporter": "python",
   "pygments_lexer": "ipython3",
   "version": "3.12.7"
  }
 },
 "nbformat": 4,
 "nbformat_minor": 5
}
